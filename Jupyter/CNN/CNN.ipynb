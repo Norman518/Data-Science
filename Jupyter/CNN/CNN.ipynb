{
 "cells": [
  {
   "cell_type": "code",
   "execution_count": 1,
   "metadata": {},
   "outputs": [
    {
     "name": "stdout",
     "output_type": "stream",
     "text": [
      "[name: \"/device:CPU:0\"\n",
      "device_type: \"CPU\"\n",
      "memory_limit: 268435456\n",
      "locality {\n",
      "}\n",
      "incarnation: 7635617269039262208\n",
      ", name: \"/device:GPU:0\"\n",
      "device_type: \"GPU\"\n",
      "memory_limit: 4855863705\n",
      "locality {\n",
      "  bus_id: 1\n",
      "  links {\n",
      "  }\n",
      "}\n",
      "incarnation: 11893811896029430223\n",
      "physical_device_desc: \"device: 0, name: GeForce GTX 1660, pci bus id: 0000:26:00.0, compute capability: 7.5\"\n",
      "]\n"
     ]
    }
   ],
   "source": [
    "from tensorflow.python.client import device_lib\n",
    "print(device_lib.list_local_devices())"
   ]
  },
  {
   "cell_type": "code",
   "execution_count": 2,
   "metadata": {},
   "outputs": [
    {
     "name": "stderr",
     "output_type": "stream",
     "text": [
      "Using TensorFlow backend.\n"
     ]
    }
   ],
   "source": [
    "from keras.models import Sequential\n",
    "from keras.layers import Conv2D, MaxPooling2D, Flatten, Dense"
   ]
  },
  {
   "cell_type": "code",
   "execution_count": 3,
   "metadata": {},
   "outputs": [],
   "source": [
    "classifier = Sequential()"
   ]
  },
  {
   "cell_type": "code",
   "execution_count": 4,
   "metadata": {},
   "outputs": [],
   "source": [
    "classifier.add(Conv2D(32, (3, 3), input_shape = (256,256,3), activation = 'relu'))"
   ]
  },
  {
   "cell_type": "code",
   "execution_count": 5,
   "metadata": {},
   "outputs": [],
   "source": [
    "classifier.add(MaxPooling2D(pool_size = (2,2)))"
   ]
  },
  {
   "cell_type": "code",
   "execution_count": 6,
   "metadata": {},
   "outputs": [],
   "source": [
    "classifier.add(Conv2D(32, (3, 3), activation = 'relu'))"
   ]
  },
  {
   "cell_type": "code",
   "execution_count": 7,
   "metadata": {},
   "outputs": [],
   "source": [
    "classifier.add(MaxPooling2D(pool_size = (2,2)))"
   ]
  },
  {
   "cell_type": "code",
   "execution_count": 8,
   "metadata": {},
   "outputs": [],
   "source": [
    "classifier.add(Flatten())"
   ]
  },
  {
   "cell_type": "code",
   "execution_count": 9,
   "metadata": {},
   "outputs": [],
   "source": [
    "classifier.add(Dense(128, activation = 'relu'))"
   ]
  },
  {
   "cell_type": "code",
   "execution_count": 10,
   "metadata": {},
   "outputs": [],
   "source": [
    "classifier.add(Dense(1, activation = 'sigmoid'))"
   ]
  },
  {
   "cell_type": "code",
   "execution_count": 11,
   "metadata": {},
   "outputs": [],
   "source": [
    "classifier.compile(optimizer = 'adam', loss='binary_crossentropy', metrics = ['accuracy'])"
   ]
  },
  {
   "cell_type": "code",
   "execution_count": 12,
   "metadata": {},
   "outputs": [],
   "source": [
    "from keras.preprocessing.image import ImageDataGenerator"
   ]
  },
  {
   "cell_type": "code",
   "execution_count": 13,
   "metadata": {},
   "outputs": [],
   "source": [
    "train_datagen = ImageDataGenerator(\n",
    "        rescale=1./255,\n",
    "        shear_range=0.2,\n",
    "        zoom_range=0.2,\n",
    "        horizontal_flip=True)"
   ]
  },
  {
   "cell_type": "code",
   "execution_count": 14,
   "metadata": {},
   "outputs": [],
   "source": [
    "test_datagen = ImageDataGenerator(rescale=1./255)"
   ]
  },
  {
   "cell_type": "code",
   "execution_count": 15,
   "metadata": {},
   "outputs": [
    {
     "name": "stdout",
     "output_type": "stream",
     "text": [
      "Found 8000 images belonging to 2 classes.\n"
     ]
    }
   ],
   "source": [
    "training_set = train_datagen.flow_from_directory(\n",
    "        'data/training_set',\n",
    "        target_size=(256, 256),\n",
    "        batch_size=32,\n",
    "        class_mode='binary')"
   ]
  },
  {
   "cell_type": "code",
   "execution_count": 16,
   "metadata": {},
   "outputs": [
    {
     "name": "stdout",
     "output_type": "stream",
     "text": [
      "Found 2000 images belonging to 2 classes.\n"
     ]
    }
   ],
   "source": [
    "test_set = test_datagen.flow_from_directory(\n",
    "        'data/test_set',\n",
    "        target_size=(256, 256),\n",
    "        batch_size=32,\n",
    "        class_mode='binary')"
   ]
  },
  {
   "cell_type": "code",
   "execution_count": null,
   "metadata": {},
   "outputs": [
    {
     "name": "stdout",
     "output_type": "stream",
     "text": [
      "Epoch 1/25\n",
      "8000/8000 [==============================] - 4566s 571ms/step - loss: 0.3414 - accuracy: 0.8433 - val_loss: 0.8636 - val_accuracy: 0.8138\n",
      "Epoch 2/25\n",
      "8000/8000 [==============================] - 4700s 588ms/step - loss: 0.1031 - accuracy: 0.9623 - val_loss: 1.6962 - val_accuracy: 0.8250\n",
      "Epoch 3/25\n",
      "8000/8000 [==============================] - 4751s 594ms/step - loss: 0.0561 - accuracy: 0.9806 - val_loss: 0.5943 - val_accuracy: 0.8109\n",
      "Epoch 4/25\n",
      "8000/8000 [==============================] - 4707s 588ms/step - loss: 0.0388 - accuracy: 0.9869 - val_loss: 1.6842 - val_accuracy: 0.8200\n",
      "Epoch 5/25\n",
      "8000/8000 [==============================] - 4677s 585ms/step - loss: 0.0290 - accuracy: 0.9905 - val_loss: 1.8194 - val_accuracy: 0.8069\n",
      "Epoch 6/25\n",
      "8000/8000 [==============================] - 4693s 587ms/step - loss: 0.0250 - accuracy: 0.9920 - val_loss: 2.7336 - val_accuracy: 0.8132\n",
      "Epoch 7/25\n",
      "8000/8000 [==============================] - 4709s 589ms/step - loss: 0.0216 - accuracy: 0.9933 - val_loss: 0.8227 - val_accuracy: 0.8052\n",
      "Epoch 8/25\n",
      "8000/8000 [==============================] - 4670s 584ms/step - loss: 0.0184 - accuracy: 0.9943 - val_loss: 2.0168 - val_accuracy: 0.8045\n",
      "Epoch 9/25\n",
      "8000/8000 [==============================] - 4670s 584ms/step - loss: 0.0165 - accuracy: 0.9949 - val_loss: 1.0123 - val_accuracy: 0.8140\n",
      "Epoch 10/25\n",
      "8000/8000 [==============================] - 4710s 589ms/step - loss: 0.0142 - accuracy: 0.9957 - val_loss: 0.2651 - val_accuracy: 0.8087\n",
      "Epoch 11/25\n",
      "8000/8000 [==============================] - 4663s 583ms/step - loss: 0.0136 - accuracy: 0.9957 - val_loss: 6.4508 - val_accuracy: 0.8090\n",
      "Epoch 12/25\n",
      "8000/8000 [==============================] - 4607s 576ms/step - loss: 0.0124 - accuracy: 0.9961 - val_loss: 0.5365 - val_accuracy: 0.8130\n",
      "Epoch 13/25\n",
      "8000/8000 [==============================] - 4651s 581ms/step - loss: 0.0120 - accuracy: 0.9963 - val_loss: 1.8230 - val_accuracy: 0.8198\n",
      "Epoch 14/25\n",
      "8000/8000 [==============================] - 4643s 580ms/step - loss: 0.0111 - accuracy: 0.9968 - val_loss: 1.1166 - val_accuracy: 0.8236\n",
      "Epoch 15/25\n",
      "8000/8000 [==============================] - 4636s 580ms/step - loss: 0.0107 - accuracy: 0.9967 - val_loss: 0.7694 - val_accuracy: 0.8139\n",
      "Epoch 16/25\n",
      "8000/8000 [==============================] - 4674s 584ms/step - loss: 0.0106 - accuracy: 0.9971 - val_loss: 1.0084 - val_accuracy: 0.8141\n",
      "Epoch 17/25\n",
      "8000/8000 [==============================] - 4765s 596ms/step - loss: 0.0108 - accuracy: 0.9970 - val_loss: 2.1891 - val_accuracy: 0.8133\n",
      "Epoch 18/25\n",
      "8000/8000 [==============================] - 4781s 598ms/step - loss: 0.0093 - accuracy: 0.9973 - val_loss: 2.3877 - val_accuracy: 0.8242\n",
      "Epoch 19/25\n",
      "5154/8000 [==================>...........] - ETA: 26:50 - loss: 0.0103 - accuracy: 0.9971"
     ]
    }
   ],
   "source": [
    "import tensorflow as tf\n",
    "with tf.device('/GPU:0'):\n",
    "    classifier.fit_generator(\n",
    "            training_set,\n",
    "            steps_per_epoch=8000,\n",
    "            epochs=25,\n",
    "            validation_data=test_set,\n",
    "            validation_steps=2000)"
   ]
  },
  {
   "cell_type": "code",
   "execution_count": null,
   "metadata": {},
   "outputs": [],
   "source": []
  }
 ],
 "metadata": {
  "kernelspec": {
   "display_name": "Python 3",
   "language": "python",
   "name": "python3"
  },
  "language_info": {
   "codemirror_mode": {
    "name": "ipython",
    "version": 3
   },
   "file_extension": ".py",
   "mimetype": "text/x-python",
   "name": "python",
   "nbconvert_exporter": "python",
   "pygments_lexer": "ipython3",
   "version": "3.7.4"
  }
 },
 "nbformat": 4,
 "nbformat_minor": 2
}
