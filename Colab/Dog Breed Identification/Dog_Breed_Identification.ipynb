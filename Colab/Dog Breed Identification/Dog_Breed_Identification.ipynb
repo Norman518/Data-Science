{
  "nbformat": 4,
  "nbformat_minor": 0,
  "metadata": {
    "colab": {
      "name": "Dog Breed Identification",
      "provenance": [],
      "collapsed_sections": [],
      "toc_visible": true
    },
    "kernelspec": {
      "name": "python3",
      "display_name": "Python 3"
    },
    "accelerator": "GPU"
  },
  "cells": [
    {
      "cell_type": "code",
      "metadata": {
        "id": "33z1pzsXJKvP",
        "colab_type": "code",
        "outputId": "910b26be-eded-44f4-cddc-b31a4a692273",
        "colab": {
          "base_uri": "https://localhost:8080/",
          "height": 35
        }
      },
      "source": [
        "%tensorflow_version 2.x\n",
        "import tensorflow as tf\n",
        "import tensorflow_hub as hub"
      ],
      "execution_count": 3,
      "outputs": [
        {
          "output_type": "stream",
          "text": [
            "TensorFlow 2.x selected.\n"
          ],
          "name": "stdout"
        }
      ]
    },
    {
      "cell_type": "code",
      "metadata": {
        "id": "mOKq-YOK8dYH",
        "colab_type": "code",
        "colab": {}
      },
      "source": [
        "import pandas as pd\n",
        "labels_csv = pd.read_csv(\"/content/drive/My Drive/Colab Notebooks/Dog Breed Identification/Data/labels.csv\")"
      ],
      "execution_count": 0,
      "outputs": []
    },
    {
      "cell_type": "code",
      "metadata": {
        "id": "inq94488Cmqx",
        "colab_type": "code",
        "colab": {}
      },
      "source": [
        "# labels_csv[\"breed\"].value_counts().plot.bar(figsize=(20,10));"
      ],
      "execution_count": 0,
      "outputs": []
    },
    {
      "cell_type": "code",
      "metadata": {
        "id": "DRY-myjLlig6",
        "colab_type": "code",
        "outputId": "fa6e0e81-1eb1-4c24-8ed7-f11831e2e005",
        "colab": {
          "base_uri": "https://localhost:8080/",
          "height": 35
        }
      },
      "source": [
        "labels_csv[\"breed\"].value_counts().median()"
      ],
      "execution_count": 6,
      "outputs": [
        {
          "output_type": "execute_result",
          "data": {
            "text/plain": [
              "82.0"
            ]
          },
          "metadata": {
            "tags": []
          },
          "execution_count": 6
        }
      ]
    },
    {
      "cell_type": "code",
      "metadata": {
        "id": "x7EbuZboqTAU",
        "colab_type": "code",
        "colab": {}
      },
      "source": [
        "filenames = [fname for fname in labels_csv[\"id\"]]"
      ],
      "execution_count": 0,
      "outputs": []
    },
    {
      "cell_type": "code",
      "metadata": {
        "id": "dBYClGkXr-EE",
        "colab_type": "code",
        "colab": {}
      },
      "source": [
        "import numpy as np\n",
        "labels = labels_csv[\"breed\"].to_numpy()"
      ],
      "execution_count": 0,
      "outputs": []
    },
    {
      "cell_type": "code",
      "metadata": {
        "id": "bVPtbnd7vp1t",
        "colab_type": "code",
        "outputId": "1ed53131-215d-4eab-c0f2-77db0c1cf234",
        "colab": {
          "base_uri": "https://localhost:8080/",
          "height": 641
        }
      },
      "source": [
        "unique_breeds = np.unique(labels)\n",
        "unique_breeds"
      ],
      "execution_count": 9,
      "outputs": [
        {
          "output_type": "execute_result",
          "data": {
            "text/plain": [
              "array(['affenpinscher', 'afghan_hound', 'african_hunting_dog', 'airedale',\n",
              "       'american_staffordshire_terrier', 'appenzeller',\n",
              "       'australian_terrier', 'basenji', 'basset', 'beagle',\n",
              "       'bedlington_terrier', 'bernese_mountain_dog',\n",
              "       'black-and-tan_coonhound', 'blenheim_spaniel', 'bloodhound',\n",
              "       'bluetick', 'border_collie', 'border_terrier', 'borzoi',\n",
              "       'boston_bull', 'bouvier_des_flandres', 'boxer',\n",
              "       'brabancon_griffon', 'briard', 'brittany_spaniel', 'bull_mastiff',\n",
              "       'cairn', 'cardigan', 'chesapeake_bay_retriever', 'chihuahua',\n",
              "       'chow', 'clumber', 'cocker_spaniel', 'collie',\n",
              "       'curly-coated_retriever', 'dandie_dinmont', 'dhole', 'dingo',\n",
              "       'doberman', 'english_foxhound', 'english_setter',\n",
              "       'english_springer', 'entlebucher', 'eskimo_dog',\n",
              "       'flat-coated_retriever', 'french_bulldog', 'german_shepherd',\n",
              "       'german_short-haired_pointer', 'giant_schnauzer',\n",
              "       'golden_retriever', 'gordon_setter', 'great_dane',\n",
              "       'great_pyrenees', 'greater_swiss_mountain_dog', 'groenendael',\n",
              "       'ibizan_hound', 'irish_setter', 'irish_terrier',\n",
              "       'irish_water_spaniel', 'irish_wolfhound', 'italian_greyhound',\n",
              "       'japanese_spaniel', 'keeshond', 'kelpie', 'kerry_blue_terrier',\n",
              "       'komondor', 'kuvasz', 'labrador_retriever', 'lakeland_terrier',\n",
              "       'leonberg', 'lhasa', 'malamute', 'malinois', 'maltese_dog',\n",
              "       'mexican_hairless', 'miniature_pinscher', 'miniature_poodle',\n",
              "       'miniature_schnauzer', 'newfoundland', 'norfolk_terrier',\n",
              "       'norwegian_elkhound', 'norwich_terrier', 'old_english_sheepdog',\n",
              "       'otterhound', 'papillon', 'pekinese', 'pembroke', 'pomeranian',\n",
              "       'pug', 'redbone', 'rhodesian_ridgeback', 'rottweiler',\n",
              "       'saint_bernard', 'saluki', 'samoyed', 'schipperke',\n",
              "       'scotch_terrier', 'scottish_deerhound', 'sealyham_terrier',\n",
              "       'shetland_sheepdog', 'shih-tzu', 'siberian_husky', 'silky_terrier',\n",
              "       'soft-coated_wheaten_terrier', 'staffordshire_bullterrier',\n",
              "       'standard_poodle', 'standard_schnauzer', 'sussex_spaniel',\n",
              "       'tibetan_mastiff', 'tibetan_terrier', 'toy_poodle', 'toy_terrier',\n",
              "       'vizsla', 'walker_hound', 'weimaraner', 'welsh_springer_spaniel',\n",
              "       'west_highland_white_terrier', 'whippet',\n",
              "       'wire-haired_fox_terrier', 'yorkshire_terrier'], dtype=object)"
            ]
          },
          "metadata": {
            "tags": []
          },
          "execution_count": 9
        }
      ]
    },
    {
      "cell_type": "code",
      "metadata": {
        "id": "vOpaOhlLxbtG",
        "colab_type": "code",
        "colab": {}
      },
      "source": [
        "boolean_labels = [label == unique_breeds for label in labels]\n",
        "filenames = [\"/content/drive/My Drive/Colab Notebooks/Dog Breed Identification/Data/train/\" + fname + \".jpg\" for fname in labels_csv[\"id\"]]"
      ],
      "execution_count": 0,
      "outputs": []
    },
    {
      "cell_type": "code",
      "metadata": {
        "id": "mFTLfm5o5u1N",
        "colab_type": "code",
        "colab": {}
      },
      "source": [
        "X = filenames\n",
        "y = boolean_labels"
      ],
      "execution_count": 0,
      "outputs": []
    },
    {
      "cell_type": "code",
      "metadata": {
        "id": "oNHzNpgVZLdK",
        "colab_type": "code",
        "colab": {}
      },
      "source": [
        "NUM_IMAGES = 1000 #@param {type:\"slider\", min:1000, max:10222}"
      ],
      "execution_count": 0,
      "outputs": []
    },
    {
      "cell_type": "code",
      "metadata": {
        "id": "Zf_bFH_5ZgpY",
        "colab_type": "code",
        "colab": {}
      },
      "source": [
        "from sklearn.model_selection import train_test_split\n",
        "X_train, X_valid, y_train, y_valid = train_test_split(X[:NUM_IMAGES],\n",
        "                                                      y[:NUM_IMAGES],\n",
        "                                                      test_size=0.2,\n",
        "                                                      random_state=42)  "
      ],
      "execution_count": 0,
      "outputs": []
    },
    {
      "cell_type": "code",
      "metadata": {
        "id": "Tvb4KDEODwqq",
        "colab_type": "code",
        "colab": {}
      },
      "source": [
        "def process_image(image_path):\n",
        "  image = tf.io.read_file(image_path)\n",
        "  image = tf.image.decode_jpeg(image, channels=3)\n",
        "  image = tf.image.convert_image_dtype(image, tf.float32)\n",
        "  image = tf.image.resize(image, size=[224,224])\n",
        "  return image"
      ],
      "execution_count": 0,
      "outputs": []
    },
    {
      "cell_type": "code",
      "metadata": {
        "id": "iBOPK_dCMI-I",
        "colab_type": "code",
        "colab": {}
      },
      "source": [
        "def get_image_label(image_path, label):\n",
        "  image = process_image(image_path)\n",
        "  return image, label"
      ],
      "execution_count": 0,
      "outputs": []
    },
    {
      "cell_type": "code",
      "metadata": {
        "id": "5oqJ-T5BQeT6",
        "colab_type": "code",
        "colab": {}
      },
      "source": [
        "def create_data_batches(X, y=None, batch_size=32, valid_data=False, test_data=False):\n",
        "  if test_data:\n",
        "    data = tf.data.Dataset.from_tensor_slices((tf.constant(X)))\n",
        "    data_batch = data.map(process_image).batch(32)\n",
        "  elif valid_data:\n",
        "    data = tf.data.Dataset.from_tensor_slices((tf.constant(X),\n",
        "                                               tf.constant(y)))\n",
        "    data_batch = data.map(get_image_label).batch(32)\n",
        "  else:\n",
        "    data = tf.data.Dataset.from_tensor_slices((tf.constant(X),\n",
        "                                               tf.constant(y)))\n",
        "    data = data.shuffle(buffer_size=len(X))\n",
        "    data_batch = data.map(get_image_label).batch(32)\n",
        "  return data_batch"
      ],
      "execution_count": 0,
      "outputs": []
    },
    {
      "cell_type": "code",
      "metadata": {
        "id": "cBEUQjFVPp5l",
        "colab_type": "code",
        "colab": {}
      },
      "source": [
        "train_data = create_data_batches(X_train, y_train)\n",
        "valid_data = create_data_batches(X_valid, y_valid, valid_data=True)"
      ],
      "execution_count": 0,
      "outputs": []
    },
    {
      "cell_type": "code",
      "metadata": {
        "id": "1-RcpAU4P-Oc",
        "colab_type": "code",
        "outputId": "cd339b44-dfff-4a8e-b7ed-8d8519bc436a",
        "colab": {
          "base_uri": "https://localhost:8080/",
          "height": 87
        }
      },
      "source": [
        "train_data.element_spec, valid_data.element_spec"
      ],
      "execution_count": 18,
      "outputs": [
        {
          "output_type": "execute_result",
          "data": {
            "text/plain": [
              "((TensorSpec(shape=(None, 224, 224, 3), dtype=tf.float32, name=None),\n",
              "  TensorSpec(shape=(None, 120), dtype=tf.bool, name=None)),\n",
              " (TensorSpec(shape=(None, 224, 224, 3), dtype=tf.float32, name=None),\n",
              "  TensorSpec(shape=(None, 120), dtype=tf.bool, name=None)))"
            ]
          },
          "metadata": {
            "tags": []
          },
          "execution_count": 18
        }
      ]
    },
    {
      "cell_type": "code",
      "metadata": {
        "id": "DaRy-LhXQTGu",
        "colab_type": "code",
        "colab": {}
      },
      "source": [
        "import matplotlib.pyplot as plt\n",
        "\n",
        "def show_25_images(images, labels):\n",
        "  plt.figure(figsize=(10, 10))\n",
        "  for i in range(25):\n",
        "    ax = plt.subplot(5, 5, i+1)\n",
        "    plt.imshow(images[i])\n",
        "    plt.title(unique_breeds[labels[i].argmax()])\n",
        "    plt.axis(\"off\")"
      ],
      "execution_count": 0,
      "outputs": []
    },
    {
      "cell_type": "code",
      "metadata": {
        "id": "uopx4fzGfgp2",
        "colab_type": "code",
        "colab": {}
      },
      "source": [
        "# train_images, train_labels = next(train_data.as_numpy_iterator())"
      ],
      "execution_count": 0,
      "outputs": []
    },
    {
      "cell_type": "code",
      "metadata": {
        "id": "9Mh3Uqmmfp3Y",
        "colab_type": "code",
        "colab": {}
      },
      "source": [
        "# show_25_images(train_images, train_labels)"
      ],
      "execution_count": 0,
      "outputs": []
    },
    {
      "cell_type": "code",
      "metadata": {
        "id": "zRNiDQaVsnSM",
        "colab_type": "code",
        "colab": {}
      },
      "source": [
        "# valid_images, valid_labels = next(valid_data.as_numpy_iterator())"
      ],
      "execution_count": 0,
      "outputs": []
    },
    {
      "cell_type": "code",
      "metadata": {
        "id": "_NZ6YXetsvWY",
        "colab_type": "code",
        "colab": {}
      },
      "source": [
        "# show_25_images(valid_images, valid_labels)"
      ],
      "execution_count": 0,
      "outputs": []
    },
    {
      "cell_type": "code",
      "metadata": {
        "id": "Q1nXG_EXsy58",
        "colab_type": "code",
        "colab": {}
      },
      "source": [
        "INPUT_SHAPE = [None, 224, 224, 3]\n",
        "OUTPUT_SHAPE = len(unique_breeds)\n",
        "\n",
        "MODEL_URL = \"https://tfhub.dev/google/imagenet/mobilenet_v2_130_224/classification/4\""
      ],
      "execution_count": 0,
      "outputs": []
    },
    {
      "cell_type": "code",
      "metadata": {
        "id": "yTrdepzPKbWP",
        "colab_type": "code",
        "colab": {}
      },
      "source": [
        "def create_model(input_shape=INPUT_SHAPE, output_shape=OUTPUT_SHAPE, model_url=MODEL_URL):\n",
        "\n",
        "  model = tf.keras.Sequential([\n",
        "    hub.KerasLayer(MODEL_URL),\n",
        "    tf.keras.layers.Dense(units=OUTPUT_SHAPE,\n",
        "                          activation=\"softmax\")\n",
        "  ])\n",
        "\n",
        "  model.compile(\n",
        "      loss=tf.keras.losses.CategoricalCrossentropy(),\n",
        "      optimizer=tf.keras.optimizers.Adam(),\n",
        "      metrics=[\"accuracy\"]\n",
        "  )\n",
        "\n",
        "  model.build(INPUT_SHAPE)\n",
        "\n",
        "  return model"
      ],
      "execution_count": 0,
      "outputs": []
    },
    {
      "cell_type": "code",
      "metadata": {
        "id": "BuL8fD5iLefJ",
        "colab_type": "code",
        "outputId": "a8b5d7de-64d6-4a9f-dbb0-e489fcd5bd52",
        "colab": {
          "base_uri": "https://localhost:8080/",
          "height": 225
        }
      },
      "source": [
        "model = create_model()\n",
        "model.summary()"
      ],
      "execution_count": 26,
      "outputs": [
        {
          "output_type": "stream",
          "text": [
            "Model: \"sequential\"\n",
            "_________________________________________________________________\n",
            "Layer (type)                 Output Shape              Param #   \n",
            "=================================================================\n",
            "keras_layer (KerasLayer)     multiple                  5432713   \n",
            "_________________________________________________________________\n",
            "dense (Dense)                multiple                  120240    \n",
            "=================================================================\n",
            "Total params: 5,552,953\n",
            "Trainable params: 120,240\n",
            "Non-trainable params: 5,432,713\n",
            "_________________________________________________________________\n"
          ],
          "name": "stdout"
        }
      ]
    },
    {
      "cell_type": "code",
      "metadata": {
        "id": "hKB0Xj3QPPa1",
        "colab_type": "code",
        "outputId": "81f72819-0b5f-4fab-ba07-464c361a4bf3",
        "colab": {
          "base_uri": "https://localhost:8080/",
          "height": 35
        }
      },
      "source": [
        "outputs = np.ones(shape=(1,1, 1280))\n",
        "outputs"
      ],
      "execution_count": 27,
      "outputs": [
        {
          "output_type": "execute_result",
          "data": {
            "text/plain": [
              "array([[[1., 1., 1., ..., 1., 1., 1.]]])"
            ]
          },
          "metadata": {
            "tags": []
          },
          "execution_count": 27
        }
      ]
    },
    {
      "cell_type": "code",
      "metadata": {
        "id": "zgmCDCAaPYX6",
        "colab_type": "code",
        "colab": {}
      },
      "source": [
        "%load_ext tensorboard\n",
        "import datetime, os\n",
        "def create_tensorboard_callback():\n",
        "  logdir = os.path.join(\"/content/drive/My Drive/Colab Notebooks/Dog Breed Identification/Logs\",\n",
        "                        datetime.datetime.now().strftime(\"%Y%m%d-%H%M%s\"))\n",
        "  return tf.keras.callbacks.TensorBoard(logdir)"
      ],
      "execution_count": 0,
      "outputs": []
    },
    {
      "cell_type": "code",
      "metadata": {
        "id": "Cw6AtIij9Gtq",
        "colab_type": "code",
        "colab": {}
      },
      "source": [
        "early_stopping = tf.keras.callbacks.EarlyStopping(monitor=\"val_accuracy\",\n",
        "                                                  patience=3)"
      ],
      "execution_count": 0,
      "outputs": []
    },
    {
      "cell_type": "code",
      "metadata": {
        "id": "WlJ8kcKoAu2J",
        "colab_type": "code",
        "colab": {}
      },
      "source": [
        "NUM_EPOCHS = 100 #@param {type:\"slider\", min:10, max:100, step:10}"
      ],
      "execution_count": 0,
      "outputs": []
    },
    {
      "cell_type": "code",
      "metadata": {
        "id": "kz_ip3ZaA9KK",
        "colab_type": "code",
        "colab": {}
      },
      "source": [
        "def train_model():\n",
        "  model = create_model()\n",
        "  tensorboard = create_tensorboard_callback() \n",
        "  model.fit(x=train_data,\n",
        "            epochs=NUM_EPOCHS,\n",
        "            validation_data=valid_data,\n",
        "            validation_freq=1,\n",
        "            callbacks=[tensorboard, early_stopping])\n",
        "  return model"
      ],
      "execution_count": 0,
      "outputs": []
    },
    {
      "cell_type": "code",
      "metadata": {
        "id": "2OO0CBlbjqwe",
        "colab_type": "code",
        "colab": {}
      },
      "source": [
        "def load_model(model_path):\n",
        "  print(f\"Loading saved model from: {model_path}\")\n",
        "  model = tf.keras.models.load_model(model_path, \n",
        "                                     custom_objects={\"KerasLayer\":hub.KerasLayer})\n",
        "  return model"
      ],
      "execution_count": 0,
      "outputs": []
    },
    {
      "cell_type": "code",
      "metadata": {
        "id": "hIS0y_0TFBCh",
        "colab_type": "code",
        "colab": {}
      },
      "source": [
        "# # model = train_model()\n",
        "# model = load_model('/content/drive/My Drive/Colab Notebooks/Dog Breed Identification/Models/20200322-19471584906454-1000-images-mobilenetv2-Adam.h5')"
      ],
      "execution_count": 0,
      "outputs": []
    },
    {
      "cell_type": "code",
      "metadata": {
        "id": "eCz-QhypFHGc",
        "colab_type": "code",
        "colab": {}
      },
      "source": [
        "# %tensorboard --logdir /content/drive/My\\ Drive/Colab\\ Notebooks/Dog\\ Breed\\ Identification/Logs"
      ],
      "execution_count": 0,
      "outputs": []
    },
    {
      "cell_type": "code",
      "metadata": {
        "id": "m-D1HGQkneGJ",
        "colab_type": "code",
        "colab": {}
      },
      "source": [
        "# predictions = model.predict(valid_data, verbose=1)"
      ],
      "execution_count": 0,
      "outputs": []
    },
    {
      "cell_type": "code",
      "metadata": {
        "id": "zut4XnljnlLA",
        "colab_type": "code",
        "colab": {}
      },
      "source": [
        "# predictions.shape, len(y_valid), len(unique_breeds)"
      ],
      "execution_count": 0,
      "outputs": []
    },
    {
      "cell_type": "code",
      "metadata": {
        "id": "n0FON0COn6i3",
        "colab_type": "code",
        "colab": {}
      },
      "source": [
        "def get_pred_label(prediction_probabilities):\n",
        "  return unique_breeds[np.argmax(prediction_probabilities)]"
      ],
      "execution_count": 0,
      "outputs": []
    },
    {
      "cell_type": "code",
      "metadata": {
        "id": "dKcq0--c7CGR",
        "colab_type": "code",
        "colab": {}
      },
      "source": [
        "def unbatchify(data):\n",
        "  images = []\n",
        "  labels = []\n",
        "\n",
        "  for image, label in data.unbatch().as_numpy_iterator():\n",
        "    images.append(image)\n",
        "    labels.append(unique_breeds[np.argmax(label)])\n",
        "  return images, labels\n",
        "\n",
        "valid_images, valid_labels = unbatchify(valid_data)"
      ],
      "execution_count": 0,
      "outputs": []
    },
    {
      "cell_type": "code",
      "metadata": {
        "id": "44iibGK72kCJ",
        "colab_type": "code",
        "colab": {}
      },
      "source": [
        "def plot_pred(prediction_probabilities, labels, images, n=1):\n",
        "  pred_prob, true_label, image = prediction_probabilities[n], labels[n], images[n]\n",
        "\n",
        "  pred_label = get_pred_label(pred_prob)\n",
        "\n",
        "  plt.imshow(image)\n",
        "  plt.xticks([])\n",
        "  plt.yticks([])\n",
        "\n",
        "  if pred_label == true_label:\n",
        "    color = \"green\"\n",
        "  else:\n",
        "    color = \"red\"\n",
        "  \n",
        "  plt.title(\"{} {:2.0f}% {}\".format(pred_label,\n",
        "                                    np.max(pred_prob)*100,\n",
        "                                    true_label),\n",
        "                                    color=color)"
      ],
      "execution_count": 0,
      "outputs": []
    },
    {
      "cell_type": "code",
      "metadata": {
        "id": "xqDjFBAiG4mG",
        "colab_type": "code",
        "colab": {}
      },
      "source": [
        "# plot_pred(prediction_probabilities=predictions,\n",
        "#           labels=valid_labels,\n",
        "#           images=valid_images,\n",
        "#           n=7)"
      ],
      "execution_count": 0,
      "outputs": []
    },
    {
      "cell_type": "code",
      "metadata": {
        "id": "QWkqSWf9BdHe",
        "colab_type": "code",
        "colab": {}
      },
      "source": [
        "def plot_pred_conf(prediction_probabilities, labels, n=1):\n",
        "  pred_prob, true_label = prediction_probabilities[n], labels[n]\n",
        "\n",
        "  pred_label = get_pred_label(pred_prob)\n",
        "\n",
        "  top_10_pred_indexes = pred_prob.argsort()[-10:][::-1]\n",
        "  top_10_pred_values = pred_prob[top_10_pred_indexes]\n",
        "  top_10_pred_labels = unique_breeds[top_10_pred_indexes]\n",
        "\n",
        "  top_plot = plt.bar(np.arange(len(top_10_pred_labels)),\n",
        "                     top_10_pred_values,\n",
        "                     color=\"grey\")\n",
        "  plt.xticks(np.arange(len(top_10_pred_labels)),\n",
        "             labels=top_10_pred_labels,\n",
        "             rotation=\"vertical\")\n",
        "  \n",
        "  if np.isin(true_label, top_10_pred_labels):\n",
        "    top_plot[np.argmax(top_10_pred_labels == true_label)].set_color(\"green\")\n",
        "  else:\n",
        "    pass"
      ],
      "execution_count": 0,
      "outputs": []
    },
    {
      "cell_type": "code",
      "metadata": {
        "id": "FqPZaLdeHO1p",
        "colab_type": "code",
        "colab": {}
      },
      "source": [
        "# plot_pred_conf(prediction_probabilities=predictions,\n",
        "#                labels=valid_labels,\n",
        "#                n=9)"
      ],
      "execution_count": 0,
      "outputs": []
    },
    {
      "cell_type": "code",
      "metadata": {
        "id": "IAVOMs-oPUTD",
        "colab_type": "code",
        "colab": {}
      },
      "source": [
        "# multiplier = 20\n",
        "# num_rows = 3\n",
        "# num_cols = 2\n",
        "# num_images = num_rows*num_cols\n",
        "# plt.figure(figsize=(10*num_cols, 5*num_rows))\n",
        "# for i in range(num_images):\n",
        "#   plt.subplot(num_rows, 2*num_cols, 2*i+1)\n",
        "#   plot_pred(prediction_probabilities=predictions,\n",
        "#             labels=valid_labels,\n",
        "#             images=valid_images,\n",
        "#             n=i+multiplier)\n",
        "#   plt.subplot(num_rows, 2*num_cols, 2*i+2)\n",
        "#   plot_pred_conf(prediction_probabilities=predictions,\n",
        "#                  labels=valid_labels,\n",
        "#                  n=i+multiplier)\n",
        "# plt.tight_layout(h_pad=1.0)\n",
        "# plt.show()"
      ],
      "execution_count": 0,
      "outputs": []
    },
    {
      "cell_type": "code",
      "metadata": {
        "id": "8tj5X117PUw_",
        "colab_type": "code",
        "colab": {}
      },
      "source": [
        "def save_model(model, suffix=None):\n",
        "\n",
        "  modeldir = os.path.join(\"/content/drive/My Drive/Colab Notebooks/Dog Breed Identification/Models\",\n",
        "                          datetime.datetime.now().strftime(\"%Y%m%d-%H%M%s\"))\n",
        "  model_path = modeldir + \"-\" + suffix + \".h5\"\n",
        "  print(f\"Saving model to: {model_path}...\")\n",
        "  model.save(model_path)\n",
        "  return model_path"
      ],
      "execution_count": 0,
      "outputs": []
    },
    {
      "cell_type": "code",
      "metadata": {
        "id": "wQ12FdawjuRm",
        "colab_type": "code",
        "colab": {}
      },
      "source": [
        "# save_model(model, suffix=\"1000-images-mobilenetv2-Adam\")"
      ],
      "execution_count": 0,
      "outputs": []
    },
    {
      "cell_type": "code",
      "metadata": {
        "id": "gISNLReUjyBB",
        "colab_type": "code",
        "colab": {}
      },
      "source": [
        "# loaded_1000_image_model = load_model('/content/drive/My Drive/Colab Notebooks/Dog Breed Identification/Models/20200322-19471584906454-1000-images-mobilenetv2-Adam.h5')"
      ],
      "execution_count": 0,
      "outputs": []
    },
    {
      "cell_type": "code",
      "metadata": {
        "id": "Ux4xP2cPymT4",
        "colab_type": "code",
        "colab": {}
      },
      "source": [
        "# model.evaluate(valid_data)"
      ],
      "execution_count": 0,
      "outputs": []
    },
    {
      "cell_type": "code",
      "metadata": {
        "id": "CJyEzCamyqHy",
        "colab_type": "code",
        "colab": {}
      },
      "source": [
        "# loaded_1000_image_model.evaluate(valid_data)"
      ],
      "execution_count": 0,
      "outputs": []
    },
    {
      "cell_type": "code",
      "metadata": {
        "id": "RWr3NLklytXg",
        "colab_type": "code",
        "outputId": "d15114da-8e7e-470f-b1d1-60a59feacdbe",
        "colab": {
          "base_uri": "https://localhost:8080/",
          "height": 35
        }
      },
      "source": [
        "len(X), len(y)"
      ],
      "execution_count": 54,
      "outputs": [
        {
          "output_type": "execute_result",
          "data": {
            "text/plain": [
              "(10222, 10222)"
            ]
          },
          "metadata": {
            "tags": []
          },
          "execution_count": 54
        }
      ]
    },
    {
      "cell_type": "code",
      "metadata": {
        "id": "ylM4u7dnzGVr",
        "colab_type": "code",
        "colab": {}
      },
      "source": [
        "# full_data = create_data_batches(X, y)"
      ],
      "execution_count": 0,
      "outputs": []
    },
    {
      "cell_type": "code",
      "metadata": {
        "id": "umUHYqJrzIGH",
        "colab_type": "code",
        "colab": {}
      },
      "source": [
        "# full_data"
      ],
      "execution_count": 0,
      "outputs": []
    },
    {
      "cell_type": "code",
      "metadata": {
        "id": "Q4Ihb5qEzI9N",
        "colab_type": "code",
        "colab": {}
      },
      "source": [
        "# full_model = create_model()"
      ],
      "execution_count": 0,
      "outputs": []
    },
    {
      "cell_type": "code",
      "metadata": {
        "id": "nt3vril5zKrA",
        "colab_type": "code",
        "colab": {}
      },
      "source": [
        "# full_model_tensorboard = create_tensorboard_callback()\n",
        "\n",
        "# full_model_early_stopping = tf.keras.callbacks.EarlyStopping(monitor=\"accuracy\",\n",
        "#                                                              patience=3)"
      ],
      "execution_count": 0,
      "outputs": []
    },
    {
      "cell_type": "code",
      "metadata": {
        "id": "rqKe9WuyzNwr",
        "colab_type": "code",
        "colab": {}
      },
      "source": [
        "# full_model.fit(x=full_data,\n",
        "#                epochs=NUM_EPOCHS,\n",
        "#                callbacks=[full_model_tensorboard, full_model_early_stopping])"
      ],
      "execution_count": 0,
      "outputs": []
    },
    {
      "cell_type": "code",
      "metadata": {
        "id": "YrEt0SxRzQvM",
        "colab_type": "code",
        "colab": {}
      },
      "source": [
        "# save_model(full_model, suffix=\"full-image-set-mobilenetv2-Adam\")"
      ],
      "execution_count": 0,
      "outputs": []
    },
    {
      "cell_type": "code",
      "metadata": {
        "id": "Q4dErgFtzUGb",
        "colab_type": "code",
        "outputId": "ec5a8e6f-ec21-4b29-aaad-3735f042456a",
        "colab": {
          "base_uri": "https://localhost:8080/",
          "height": 89
        }
      },
      "source": [
        "loaded_full_model = load_model('/content/drive/My Drive/Colab Notebooks/Dog Breed Identification/Models/20200322-21541584914073-full-image-set-mobilenetv2-Adam.h5')"
      ],
      "execution_count": 61,
      "outputs": [
        {
          "output_type": "stream",
          "text": [
            "Loading saved model from: /content/drive/My Drive/Colab Notebooks/Dog Breed Identification/Models/20200322-21541584914073-full-image-set-mobilenetv2-Adam.h5\n",
            "WARNING:tensorflow:Sequential models without an `input_shape` passed to the first layer cannot reload their optimizer state. As a result, your model isstarting with a freshly initialized optimizer.\n"
          ],
          "name": "stdout"
        },
        {
          "output_type": "stream",
          "text": [
            "WARNING:tensorflow:Sequential models without an `input_shape` passed to the first layer cannot reload their optimizer state. As a result, your model isstarting with a freshly initialized optimizer.\n"
          ],
          "name": "stderr"
        }
      ]
    },
    {
      "cell_type": "code",
      "metadata": {
        "id": "fZdAjn1ozZNK",
        "colab_type": "code",
        "outputId": "49258471-4518-41de-a5df-d3cefc7b4d65",
        "colab": {
          "base_uri": "https://localhost:8080/",
          "height": 211
        }
      },
      "source": [
        "test_path = \"/content/drive/My Drive/Colab Notebooks/Dog Breed Identification/Data/test/\"\n",
        "test_filenames = [test_path + fname for fname in os.listdir(test_path)]\n",
        "test_filenames[:10]"
      ],
      "execution_count": 62,
      "outputs": [
        {
          "output_type": "execute_result",
          "data": {
            "text/plain": [
              "['/content/drive/My Drive/Colab Notebooks/Dog Breed Identification/Data/test/f56080803871563e96541a57ad1a08c4.jpg',\n",
              " '/content/drive/My Drive/Colab Notebooks/Dog Breed Identification/Data/test/f574f558d78db4e616e91f5dd5347409.jpg',\n",
              " '/content/drive/My Drive/Colab Notebooks/Dog Breed Identification/Data/test/f540547111a9b6bda288b694a5536702.jpg',\n",
              " '/content/drive/My Drive/Colab Notebooks/Dog Breed Identification/Data/test/f56185baca63dfc073ca82bee5bf24e4.jpg',\n",
              " '/content/drive/My Drive/Colab Notebooks/Dog Breed Identification/Data/test/f56b3708592637432ac53d7f0684dfa8.jpg',\n",
              " '/content/drive/My Drive/Colab Notebooks/Dog Breed Identification/Data/test/f56b4140707da82fe91cb9e5df4ce68c.jpg',\n",
              " '/content/drive/My Drive/Colab Notebooks/Dog Breed Identification/Data/test/f575720280425098d6faca42cff69a36.jpg',\n",
              " '/content/drive/My Drive/Colab Notebooks/Dog Breed Identification/Data/test/f5787e3574a4af6a19ff825cf0c32366.jpg',\n",
              " '/content/drive/My Drive/Colab Notebooks/Dog Breed Identification/Data/test/f57f8ce3fe1d928828e37a9bd78574d9.jpg',\n",
              " '/content/drive/My Drive/Colab Notebooks/Dog Breed Identification/Data/test/f599f4d08388e69960e17234ebd0beba.jpg']"
            ]
          },
          "metadata": {
            "tags": []
          },
          "execution_count": 62
        }
      ]
    },
    {
      "cell_type": "code",
      "metadata": {
        "id": "0AV66A0Lzbc7",
        "colab_type": "code",
        "outputId": "472ffe61-756f-4cce-baea-fcaa36413f16",
        "colab": {
          "base_uri": "https://localhost:8080/",
          "height": 35
        }
      },
      "source": [
        "len(test_filenames)"
      ],
      "execution_count": 63,
      "outputs": [
        {
          "output_type": "execute_result",
          "data": {
            "text/plain": [
              "10366"
            ]
          },
          "metadata": {
            "tags": []
          },
          "execution_count": 63
        }
      ]
    },
    {
      "cell_type": "code",
      "metadata": {
        "id": "cGaj7jxrzcmo",
        "colab_type": "code",
        "outputId": "f6e2ddd8-7610-4e0a-bf3e-261ebb84f36e",
        "colab": {
          "base_uri": "https://localhost:8080/",
          "height": 35
        }
      },
      "source": [
        "test_data = create_data_batches(test_filenames, test_data=True)\n",
        "test_data"
      ],
      "execution_count": 64,
      "outputs": [
        {
          "output_type": "execute_result",
          "data": {
            "text/plain": [
              "<BatchDataset shapes: (None, 224, 224, 3), types: tf.float32>"
            ]
          },
          "metadata": {
            "tags": []
          },
          "execution_count": 64
        }
      ]
    },
    {
      "cell_type": "code",
      "metadata": {
        "id": "t4lWJD0XziBn",
        "colab_type": "code",
        "colab": {}
      },
      "source": [
        "# test_predictions = loaded_full_model.predict(test_data,\n",
        "#                                              verbose=1)"
      ],
      "execution_count": 0,
      "outputs": []
    },
    {
      "cell_type": "code",
      "metadata": {
        "id": "I0Zs8j0sIQ0o",
        "colab_type": "code",
        "colab": {}
      },
      "source": [
        "# np.savetxt(\"/content/drive/My Drive/Colab Notebooks/Dog Breed Identification/preds_array.csv\", test_predictions, delimiter=\",\")"
      ],
      "execution_count": 0,
      "outputs": []
    },
    {
      "cell_type": "code",
      "metadata": {
        "id": "Iu3j2n26zlkv",
        "colab_type": "code",
        "outputId": "f96509f9-0140-4caf-d3a3-4d3a07c66de3",
        "colab": {
          "base_uri": "https://localhost:8080/",
          "height": 243
        }
      },
      "source": [
        "test_predictions = np.loadtxt(\"/content/drive/My Drive/Colab Notebooks/Dog Breed Identification/preds_array.csv\", delimiter=\",\")\n",
        "test_predictions[:10]"
      ],
      "execution_count": 68,
      "outputs": [
        {
          "output_type": "execute_result",
          "data": {
            "text/plain": [
              "array([[1.68428343e-07, 2.00659533e-09, 2.71895800e-07, ...,\n",
              "        6.46744520e-05, 1.10441897e-05, 7.99117606e-06],\n",
              "       [7.01031316e-11, 9.92717981e-01, 3.32759886e-09, ...,\n",
              "        2.95999769e-07, 3.35897887e-09, 1.45759129e-08],\n",
              "       [9.04749129e-07, 3.39793189e-07, 2.43879697e-07, ...,\n",
              "        1.22101351e-08, 1.63217908e-06, 8.53729085e-04],\n",
              "       ...,\n",
              "       [7.92449040e-09, 2.15825040e-07, 1.86912516e-07, ...,\n",
              "        6.21308800e-06, 1.33797267e-08, 2.45236054e-09],\n",
              "       [1.94868107e-07, 5.32226554e-11, 1.05973856e-12, ...,\n",
              "        2.02497822e-13, 1.38496353e-10, 6.07095652e-10],\n",
              "       [4.06220607e-07, 1.20439154e-07, 3.18562310e-09, ...,\n",
              "        4.51644695e-08, 6.69555622e-04, 2.06159864e-04]])"
            ]
          },
          "metadata": {
            "tags": []
          },
          "execution_count": 68
        }
      ]
    },
    {
      "cell_type": "code",
      "metadata": {
        "id": "KBvtRe6hzpDe",
        "colab_type": "code",
        "outputId": "31413ac3-f24a-477b-9215-8629823a654e",
        "colab": {
          "base_uri": "https://localhost:8080/",
          "height": 35
        }
      },
      "source": [
        "test_predictions.shape"
      ],
      "execution_count": 69,
      "outputs": [
        {
          "output_type": "execute_result",
          "data": {
            "text/plain": [
              "(10366, 120)"
            ]
          },
          "metadata": {
            "tags": []
          },
          "execution_count": 69
        }
      ]
    },
    {
      "cell_type": "code",
      "metadata": {
        "id": "K64JKZq3jR8D",
        "colab_type": "code",
        "outputId": "991c92ea-53b2-49a0-bcb8-884e9ffa9418",
        "colab": {
          "base_uri": "https://localhost:8080/",
          "height": 115
        }
      },
      "source": [
        "preds_df = pd.DataFrame(columns=[\"id\"] + list(unique_breeds))\n",
        "preds_df.head()"
      ],
      "execution_count": 70,
      "outputs": [
        {
          "output_type": "execute_result",
          "data": {
            "text/html": [
              "<div>\n",
              "<style scoped>\n",
              "    .dataframe tbody tr th:only-of-type {\n",
              "        vertical-align: middle;\n",
              "    }\n",
              "\n",
              "    .dataframe tbody tr th {\n",
              "        vertical-align: top;\n",
              "    }\n",
              "\n",
              "    .dataframe thead th {\n",
              "        text-align: right;\n",
              "    }\n",
              "</style>\n",
              "<table border=\"1\" class=\"dataframe\">\n",
              "  <thead>\n",
              "    <tr style=\"text-align: right;\">\n",
              "      <th></th>\n",
              "      <th>id</th>\n",
              "      <th>affenpinscher</th>\n",
              "      <th>afghan_hound</th>\n",
              "      <th>african_hunting_dog</th>\n",
              "      <th>airedale</th>\n",
              "      <th>american_staffordshire_terrier</th>\n",
              "      <th>appenzeller</th>\n",
              "      <th>australian_terrier</th>\n",
              "      <th>basenji</th>\n",
              "      <th>basset</th>\n",
              "      <th>beagle</th>\n",
              "      <th>bedlington_terrier</th>\n",
              "      <th>bernese_mountain_dog</th>\n",
              "      <th>black-and-tan_coonhound</th>\n",
              "      <th>blenheim_spaniel</th>\n",
              "      <th>bloodhound</th>\n",
              "      <th>bluetick</th>\n",
              "      <th>border_collie</th>\n",
              "      <th>border_terrier</th>\n",
              "      <th>borzoi</th>\n",
              "      <th>boston_bull</th>\n",
              "      <th>bouvier_des_flandres</th>\n",
              "      <th>boxer</th>\n",
              "      <th>brabancon_griffon</th>\n",
              "      <th>briard</th>\n",
              "      <th>brittany_spaniel</th>\n",
              "      <th>bull_mastiff</th>\n",
              "      <th>cairn</th>\n",
              "      <th>cardigan</th>\n",
              "      <th>chesapeake_bay_retriever</th>\n",
              "      <th>chihuahua</th>\n",
              "      <th>chow</th>\n",
              "      <th>clumber</th>\n",
              "      <th>cocker_spaniel</th>\n",
              "      <th>collie</th>\n",
              "      <th>curly-coated_retriever</th>\n",
              "      <th>dandie_dinmont</th>\n",
              "      <th>dhole</th>\n",
              "      <th>dingo</th>\n",
              "      <th>doberman</th>\n",
              "      <th>...</th>\n",
              "      <th>norwegian_elkhound</th>\n",
              "      <th>norwich_terrier</th>\n",
              "      <th>old_english_sheepdog</th>\n",
              "      <th>otterhound</th>\n",
              "      <th>papillon</th>\n",
              "      <th>pekinese</th>\n",
              "      <th>pembroke</th>\n",
              "      <th>pomeranian</th>\n",
              "      <th>pug</th>\n",
              "      <th>redbone</th>\n",
              "      <th>rhodesian_ridgeback</th>\n",
              "      <th>rottweiler</th>\n",
              "      <th>saint_bernard</th>\n",
              "      <th>saluki</th>\n",
              "      <th>samoyed</th>\n",
              "      <th>schipperke</th>\n",
              "      <th>scotch_terrier</th>\n",
              "      <th>scottish_deerhound</th>\n",
              "      <th>sealyham_terrier</th>\n",
              "      <th>shetland_sheepdog</th>\n",
              "      <th>shih-tzu</th>\n",
              "      <th>siberian_husky</th>\n",
              "      <th>silky_terrier</th>\n",
              "      <th>soft-coated_wheaten_terrier</th>\n",
              "      <th>staffordshire_bullterrier</th>\n",
              "      <th>standard_poodle</th>\n",
              "      <th>standard_schnauzer</th>\n",
              "      <th>sussex_spaniel</th>\n",
              "      <th>tibetan_mastiff</th>\n",
              "      <th>tibetan_terrier</th>\n",
              "      <th>toy_poodle</th>\n",
              "      <th>toy_terrier</th>\n",
              "      <th>vizsla</th>\n",
              "      <th>walker_hound</th>\n",
              "      <th>weimaraner</th>\n",
              "      <th>welsh_springer_spaniel</th>\n",
              "      <th>west_highland_white_terrier</th>\n",
              "      <th>whippet</th>\n",
              "      <th>wire-haired_fox_terrier</th>\n",
              "      <th>yorkshire_terrier</th>\n",
              "    </tr>\n",
              "  </thead>\n",
              "  <tbody>\n",
              "  </tbody>\n",
              "</table>\n",
              "<p>0 rows × 121 columns</p>\n",
              "</div>"
            ],
            "text/plain": [
              "Empty DataFrame\n",
              "Columns: [id, affenpinscher, afghan_hound, african_hunting_dog, airedale, american_staffordshire_terrier, appenzeller, australian_terrier, basenji, basset, beagle, bedlington_terrier, bernese_mountain_dog, black-and-tan_coonhound, blenheim_spaniel, bloodhound, bluetick, border_collie, border_terrier, borzoi, boston_bull, bouvier_des_flandres, boxer, brabancon_griffon, briard, brittany_spaniel, bull_mastiff, cairn, cardigan, chesapeake_bay_retriever, chihuahua, chow, clumber, cocker_spaniel, collie, curly-coated_retriever, dandie_dinmont, dhole, dingo, doberman, english_foxhound, english_setter, english_springer, entlebucher, eskimo_dog, flat-coated_retriever, french_bulldog, german_shepherd, german_short-haired_pointer, giant_schnauzer, golden_retriever, gordon_setter, great_dane, great_pyrenees, greater_swiss_mountain_dog, groenendael, ibizan_hound, irish_setter, irish_terrier, irish_water_spaniel, irish_wolfhound, italian_greyhound, japanese_spaniel, keeshond, kelpie, kerry_blue_terrier, komondor, kuvasz, labrador_retriever, lakeland_terrier, leonberg, lhasa, malamute, malinois, maltese_dog, mexican_hairless, miniature_pinscher, miniature_poodle, miniature_schnauzer, newfoundland, norfolk_terrier, norwegian_elkhound, norwich_terrier, old_english_sheepdog, otterhound, papillon, pekinese, pembroke, pomeranian, pug, redbone, rhodesian_ridgeback, rottweiler, saint_bernard, saluki, samoyed, schipperke, scotch_terrier, scottish_deerhound, sealyham_terrier, ...]\n",
              "Index: []\n",
              "\n",
              "[0 rows x 121 columns]"
            ]
          },
          "metadata": {
            "tags": []
          },
          "execution_count": 70
        }
      ]
    },
    {
      "cell_type": "code",
      "metadata": {
        "id": "EyaOCLmLjpk_",
        "colab_type": "code",
        "colab": {}
      },
      "source": [
        "test_ids = [os.path.splitext(path)[0] for path in os.listdir(test_path)]\n",
        "preds_df[\"id\"] = test_ids"
      ],
      "execution_count": 0,
      "outputs": []
    },
    {
      "cell_type": "code",
      "metadata": {
        "id": "qASJqQaMk9ci",
        "colab_type": "code",
        "outputId": "12577c56-163f-4b2f-bf7c-199003f03944",
        "colab": {
          "base_uri": "https://localhost:8080/",
          "height": 355
        }
      },
      "source": [
        "preds_df[list(unique_breeds)] = test_predictions\n",
        "preds_df.head()"
      ],
      "execution_count": 72,
      "outputs": [
        {
          "output_type": "execute_result",
          "data": {
            "text/html": [
              "<div>\n",
              "<style scoped>\n",
              "    .dataframe tbody tr th:only-of-type {\n",
              "        vertical-align: middle;\n",
              "    }\n",
              "\n",
              "    .dataframe tbody tr th {\n",
              "        vertical-align: top;\n",
              "    }\n",
              "\n",
              "    .dataframe thead th {\n",
              "        text-align: right;\n",
              "    }\n",
              "</style>\n",
              "<table border=\"1\" class=\"dataframe\">\n",
              "  <thead>\n",
              "    <tr style=\"text-align: right;\">\n",
              "      <th></th>\n",
              "      <th>id</th>\n",
              "      <th>affenpinscher</th>\n",
              "      <th>afghan_hound</th>\n",
              "      <th>african_hunting_dog</th>\n",
              "      <th>airedale</th>\n",
              "      <th>american_staffordshire_terrier</th>\n",
              "      <th>appenzeller</th>\n",
              "      <th>australian_terrier</th>\n",
              "      <th>basenji</th>\n",
              "      <th>basset</th>\n",
              "      <th>beagle</th>\n",
              "      <th>bedlington_terrier</th>\n",
              "      <th>bernese_mountain_dog</th>\n",
              "      <th>black-and-tan_coonhound</th>\n",
              "      <th>blenheim_spaniel</th>\n",
              "      <th>bloodhound</th>\n",
              "      <th>bluetick</th>\n",
              "      <th>border_collie</th>\n",
              "      <th>border_terrier</th>\n",
              "      <th>borzoi</th>\n",
              "      <th>boston_bull</th>\n",
              "      <th>bouvier_des_flandres</th>\n",
              "      <th>boxer</th>\n",
              "      <th>brabancon_griffon</th>\n",
              "      <th>briard</th>\n",
              "      <th>brittany_spaniel</th>\n",
              "      <th>bull_mastiff</th>\n",
              "      <th>cairn</th>\n",
              "      <th>cardigan</th>\n",
              "      <th>chesapeake_bay_retriever</th>\n",
              "      <th>chihuahua</th>\n",
              "      <th>chow</th>\n",
              "      <th>clumber</th>\n",
              "      <th>cocker_spaniel</th>\n",
              "      <th>collie</th>\n",
              "      <th>curly-coated_retriever</th>\n",
              "      <th>dandie_dinmont</th>\n",
              "      <th>dhole</th>\n",
              "      <th>dingo</th>\n",
              "      <th>doberman</th>\n",
              "      <th>...</th>\n",
              "      <th>norwegian_elkhound</th>\n",
              "      <th>norwich_terrier</th>\n",
              "      <th>old_english_sheepdog</th>\n",
              "      <th>otterhound</th>\n",
              "      <th>papillon</th>\n",
              "      <th>pekinese</th>\n",
              "      <th>pembroke</th>\n",
              "      <th>pomeranian</th>\n",
              "      <th>pug</th>\n",
              "      <th>redbone</th>\n",
              "      <th>rhodesian_ridgeback</th>\n",
              "      <th>rottweiler</th>\n",
              "      <th>saint_bernard</th>\n",
              "      <th>saluki</th>\n",
              "      <th>samoyed</th>\n",
              "      <th>schipperke</th>\n",
              "      <th>scotch_terrier</th>\n",
              "      <th>scottish_deerhound</th>\n",
              "      <th>sealyham_terrier</th>\n",
              "      <th>shetland_sheepdog</th>\n",
              "      <th>shih-tzu</th>\n",
              "      <th>siberian_husky</th>\n",
              "      <th>silky_terrier</th>\n",
              "      <th>soft-coated_wheaten_terrier</th>\n",
              "      <th>staffordshire_bullterrier</th>\n",
              "      <th>standard_poodle</th>\n",
              "      <th>standard_schnauzer</th>\n",
              "      <th>sussex_spaniel</th>\n",
              "      <th>tibetan_mastiff</th>\n",
              "      <th>tibetan_terrier</th>\n",
              "      <th>toy_poodle</th>\n",
              "      <th>toy_terrier</th>\n",
              "      <th>vizsla</th>\n",
              "      <th>walker_hound</th>\n",
              "      <th>weimaraner</th>\n",
              "      <th>welsh_springer_spaniel</th>\n",
              "      <th>west_highland_white_terrier</th>\n",
              "      <th>whippet</th>\n",
              "      <th>wire-haired_fox_terrier</th>\n",
              "      <th>yorkshire_terrier</th>\n",
              "    </tr>\n",
              "  </thead>\n",
              "  <tbody>\n",
              "    <tr>\n",
              "      <th>0</th>\n",
              "      <td>f56080803871563e96541a57ad1a08c4</td>\n",
              "      <td>1.68428e-07</td>\n",
              "      <td>2.0066e-09</td>\n",
              "      <td>2.71896e-07</td>\n",
              "      <td>0.00375816</td>\n",
              "      <td>3.20432e-06</td>\n",
              "      <td>3.03003e-07</td>\n",
              "      <td>2.56905e-05</td>\n",
              "      <td>4.71382e-06</td>\n",
              "      <td>5.03148e-07</td>\n",
              "      <td>8.22257e-06</td>\n",
              "      <td>9.54712e-07</td>\n",
              "      <td>3.00155e-08</td>\n",
              "      <td>7.89066e-08</td>\n",
              "      <td>4.33537e-09</td>\n",
              "      <td>3.84114e-07</td>\n",
              "      <td>9.80845e-07</td>\n",
              "      <td>7.47731e-08</td>\n",
              "      <td>0.95378</td>\n",
              "      <td>5.81467e-11</td>\n",
              "      <td>2.51776e-05</td>\n",
              "      <td>1.28546e-07</td>\n",
              "      <td>2.94419e-06</td>\n",
              "      <td>6.91923e-05</td>\n",
              "      <td>2.55522e-08</td>\n",
              "      <td>1.05905e-08</td>\n",
              "      <td>1.02679e-05</td>\n",
              "      <td>3.35202e-07</td>\n",
              "      <td>1.24172e-09</td>\n",
              "      <td>9.48025e-07</td>\n",
              "      <td>8.62497e-07</td>\n",
              "      <td>8.44167e-10</td>\n",
              "      <td>2.48448e-07</td>\n",
              "      <td>2.14179e-10</td>\n",
              "      <td>7.54574e-09</td>\n",
              "      <td>1.31846e-07</td>\n",
              "      <td>9.40444e-06</td>\n",
              "      <td>1.37777e-07</td>\n",
              "      <td>1.56935e-07</td>\n",
              "      <td>1.16834e-05</td>\n",
              "      <td>...</td>\n",
              "      <td>1.28759e-05</td>\n",
              "      <td>1.04347e-05</td>\n",
              "      <td>3.37439e-08</td>\n",
              "      <td>4.48222e-07</td>\n",
              "      <td>8.6417e-09</td>\n",
              "      <td>5.10626e-09</td>\n",
              "      <td>2.48571e-08</td>\n",
              "      <td>8.35594e-09</td>\n",
              "      <td>6.3356e-07</td>\n",
              "      <td>8.77379e-07</td>\n",
              "      <td>3.02318e-07</td>\n",
              "      <td>4.30457e-06</td>\n",
              "      <td>5.67372e-10</td>\n",
              "      <td>2.72063e-08</td>\n",
              "      <td>4.00782e-09</td>\n",
              "      <td>3.04001e-07</td>\n",
              "      <td>6.80738e-08</td>\n",
              "      <td>5.07967e-06</td>\n",
              "      <td>6.03209e-06</td>\n",
              "      <td>4.49124e-10</td>\n",
              "      <td>3.83683e-07</td>\n",
              "      <td>1.57345e-08</td>\n",
              "      <td>7.99256e-06</td>\n",
              "      <td>2.03938e-06</td>\n",
              "      <td>8.90579e-05</td>\n",
              "      <td>9.74827e-09</td>\n",
              "      <td>0.0174188</td>\n",
              "      <td>2.82307e-07</td>\n",
              "      <td>8.65348e-07</td>\n",
              "      <td>4.176e-08</td>\n",
              "      <td>1.91335e-07</td>\n",
              "      <td>3.02188e-06</td>\n",
              "      <td>1.25017e-07</td>\n",
              "      <td>7.43062e-08</td>\n",
              "      <td>2.18737e-07</td>\n",
              "      <td>1.68566e-07</td>\n",
              "      <td>8.10107e-06</td>\n",
              "      <td>6.46745e-05</td>\n",
              "      <td>1.10442e-05</td>\n",
              "      <td>7.99118e-06</td>\n",
              "    </tr>\n",
              "    <tr>\n",
              "      <th>1</th>\n",
              "      <td>f574f558d78db4e616e91f5dd5347409</td>\n",
              "      <td>7.01031e-11</td>\n",
              "      <td>0.992718</td>\n",
              "      <td>3.3276e-09</td>\n",
              "      <td>7.39142e-09</td>\n",
              "      <td>1.10024e-08</td>\n",
              "      <td>1.64291e-09</td>\n",
              "      <td>6.50156e-08</td>\n",
              "      <td>4.43189e-11</td>\n",
              "      <td>1.72112e-09</td>\n",
              "      <td>2.69501e-11</td>\n",
              "      <td>1.82945e-08</td>\n",
              "      <td>2.28824e-08</td>\n",
              "      <td>1.97686e-08</td>\n",
              "      <td>1.00441e-07</td>\n",
              "      <td>2.92313e-08</td>\n",
              "      <td>3.48533e-07</td>\n",
              "      <td>3.50363e-07</td>\n",
              "      <td>7.77328e-12</td>\n",
              "      <td>0.000497781</td>\n",
              "      <td>2.02176e-10</td>\n",
              "      <td>8.41275e-10</td>\n",
              "      <td>2.75087e-10</td>\n",
              "      <td>2.71493e-11</td>\n",
              "      <td>5.26282e-06</td>\n",
              "      <td>9.94186e-09</td>\n",
              "      <td>5.21619e-09</td>\n",
              "      <td>2.40793e-09</td>\n",
              "      <td>4.10481e-08</td>\n",
              "      <td>1.47517e-07</td>\n",
              "      <td>3.83744e-10</td>\n",
              "      <td>2.86192e-07</td>\n",
              "      <td>5.77711e-07</td>\n",
              "      <td>0.000303569</td>\n",
              "      <td>0.00414085</td>\n",
              "      <td>4.04637e-09</td>\n",
              "      <td>2.3078e-07</td>\n",
              "      <td>3.12704e-10</td>\n",
              "      <td>2.32587e-09</td>\n",
              "      <td>2.36309e-08</td>\n",
              "      <td>...</td>\n",
              "      <td>6.95894e-12</td>\n",
              "      <td>1.91026e-06</td>\n",
              "      <td>2.47156e-06</td>\n",
              "      <td>2.03825e-05</td>\n",
              "      <td>3.51908e-10</td>\n",
              "      <td>1.97686e-08</td>\n",
              "      <td>4.72769e-09</td>\n",
              "      <td>6.17567e-08</td>\n",
              "      <td>1.92408e-10</td>\n",
              "      <td>1.9632e-08</td>\n",
              "      <td>2.29283e-06</td>\n",
              "      <td>2.56637e-09</td>\n",
              "      <td>1.53247e-08</td>\n",
              "      <td>0.00160542</td>\n",
              "      <td>4.79408e-07</td>\n",
              "      <td>1.40174e-11</td>\n",
              "      <td>1.86455e-09</td>\n",
              "      <td>1.61541e-06</td>\n",
              "      <td>1.6485e-10</td>\n",
              "      <td>3.44706e-08</td>\n",
              "      <td>2.8407e-09</td>\n",
              "      <td>5.96393e-09</td>\n",
              "      <td>3.65809e-10</td>\n",
              "      <td>6.82425e-09</td>\n",
              "      <td>4.91622e-09</td>\n",
              "      <td>1.60694e-05</td>\n",
              "      <td>1.67981e-08</td>\n",
              "      <td>1.88983e-07</td>\n",
              "      <td>1.2782e-05</td>\n",
              "      <td>2.18046e-05</td>\n",
              "      <td>5.44006e-08</td>\n",
              "      <td>1.78982e-11</td>\n",
              "      <td>1.16072e-08</td>\n",
              "      <td>9.27604e-06</td>\n",
              "      <td>1.32998e-05</td>\n",
              "      <td>9.08415e-08</td>\n",
              "      <td>5.78556e-10</td>\n",
              "      <td>2.96e-07</td>\n",
              "      <td>3.35898e-09</td>\n",
              "      <td>1.45759e-08</td>\n",
              "    </tr>\n",
              "    <tr>\n",
              "      <th>2</th>\n",
              "      <td>f540547111a9b6bda288b694a5536702</td>\n",
              "      <td>9.04749e-07</td>\n",
              "      <td>3.39793e-07</td>\n",
              "      <td>2.4388e-07</td>\n",
              "      <td>9.03917e-07</td>\n",
              "      <td>0.000185861</td>\n",
              "      <td>8.42934e-09</td>\n",
              "      <td>1.89463e-05</td>\n",
              "      <td>3.357e-07</td>\n",
              "      <td>1.41203e-06</td>\n",
              "      <td>1.6623e-08</td>\n",
              "      <td>2.63268e-10</td>\n",
              "      <td>1.14919e-07</td>\n",
              "      <td>3.23985e-06</td>\n",
              "      <td>2.31828e-05</td>\n",
              "      <td>2.25078e-05</td>\n",
              "      <td>8.69907e-07</td>\n",
              "      <td>3.05464e-06</td>\n",
              "      <td>6.36041e-06</td>\n",
              "      <td>4.64615e-08</td>\n",
              "      <td>8.28516e-06</td>\n",
              "      <td>2.39929e-06</td>\n",
              "      <td>9.74281e-06</td>\n",
              "      <td>0.00266963</td>\n",
              "      <td>0.000311962</td>\n",
              "      <td>2.33952e-07</td>\n",
              "      <td>0.301535</td>\n",
              "      <td>3.15604e-06</td>\n",
              "      <td>5.82842e-08</td>\n",
              "      <td>4.55468e-07</td>\n",
              "      <td>1.33826e-07</td>\n",
              "      <td>2.04539e-06</td>\n",
              "      <td>5.76087e-05</td>\n",
              "      <td>6.67501e-05</td>\n",
              "      <td>1.12455e-06</td>\n",
              "      <td>5.54405e-11</td>\n",
              "      <td>1.04669e-06</td>\n",
              "      <td>4.77694e-10</td>\n",
              "      <td>9.23696e-08</td>\n",
              "      <td>1.67511e-07</td>\n",
              "      <td>...</td>\n",
              "      <td>1.66336e-07</td>\n",
              "      <td>4.4558e-05</td>\n",
              "      <td>2.0016e-05</td>\n",
              "      <td>2.1301e-06</td>\n",
              "      <td>7.20817e-06</td>\n",
              "      <td>0.00336257</td>\n",
              "      <td>1.65089e-09</td>\n",
              "      <td>1.27444e-07</td>\n",
              "      <td>0.0398891</td>\n",
              "      <td>1.18131e-06</td>\n",
              "      <td>5.33509e-07</td>\n",
              "      <td>1.4709e-05</td>\n",
              "      <td>9.9243e-05</td>\n",
              "      <td>4.243e-08</td>\n",
              "      <td>7.80701e-09</td>\n",
              "      <td>1.65201e-07</td>\n",
              "      <td>1.3388e-08</td>\n",
              "      <td>1.48038e-07</td>\n",
              "      <td>3.88015e-08</td>\n",
              "      <td>3.28685e-07</td>\n",
              "      <td>0.00537218</td>\n",
              "      <td>2.48878e-08</td>\n",
              "      <td>0.641569</td>\n",
              "      <td>1.17839e-06</td>\n",
              "      <td>6.19597e-05</td>\n",
              "      <td>2.25992e-07</td>\n",
              "      <td>2.30971e-06</td>\n",
              "      <td>1.03963e-05</td>\n",
              "      <td>0.000137166</td>\n",
              "      <td>0.0001337</td>\n",
              "      <td>1.97868e-07</td>\n",
              "      <td>8.04323e-07</td>\n",
              "      <td>1.41517e-08</td>\n",
              "      <td>1.95726e-07</td>\n",
              "      <td>3.58892e-07</td>\n",
              "      <td>8.77703e-07</td>\n",
              "      <td>1.86744e-07</td>\n",
              "      <td>1.22101e-08</td>\n",
              "      <td>1.63218e-06</td>\n",
              "      <td>0.000853729</td>\n",
              "    </tr>\n",
              "    <tr>\n",
              "      <th>3</th>\n",
              "      <td>f56185baca63dfc073ca82bee5bf24e4</td>\n",
              "      <td>1.083e-08</td>\n",
              "      <td>6.45794e-11</td>\n",
              "      <td>5.78191e-12</td>\n",
              "      <td>1.50498e-11</td>\n",
              "      <td>2.98491e-11</td>\n",
              "      <td>4.70859e-12</td>\n",
              "      <td>3.15926e-12</td>\n",
              "      <td>2.76168e-09</td>\n",
              "      <td>5.63663e-12</td>\n",
              "      <td>4.681e-10</td>\n",
              "      <td>6.23824e-11</td>\n",
              "      <td>3.16239e-11</td>\n",
              "      <td>3.56913e-11</td>\n",
              "      <td>1.01321e-09</td>\n",
              "      <td>1.56626e-10</td>\n",
              "      <td>8.71745e-09</td>\n",
              "      <td>3.76725e-09</td>\n",
              "      <td>5.72302e-09</td>\n",
              "      <td>3.11972e-13</td>\n",
              "      <td>2.28011e-07</td>\n",
              "      <td>1.60317e-11</td>\n",
              "      <td>1.21888e-10</td>\n",
              "      <td>2.79177e-06</td>\n",
              "      <td>8.60681e-11</td>\n",
              "      <td>3.63151e-10</td>\n",
              "      <td>9.26715e-09</td>\n",
              "      <td>6.8294e-09</td>\n",
              "      <td>1.65464e-14</td>\n",
              "      <td>2.86584e-11</td>\n",
              "      <td>4.87329e-08</td>\n",
              "      <td>3.04453e-07</td>\n",
              "      <td>3.54706e-12</td>\n",
              "      <td>6.40944e-09</td>\n",
              "      <td>1.48005e-10</td>\n",
              "      <td>4.28791e-12</td>\n",
              "      <td>4.31236e-11</td>\n",
              "      <td>5.46865e-11</td>\n",
              "      <td>2.77221e-11</td>\n",
              "      <td>1.06784e-10</td>\n",
              "      <td>...</td>\n",
              "      <td>2.4359e-06</td>\n",
              "      <td>3.60161e-12</td>\n",
              "      <td>7.50373e-11</td>\n",
              "      <td>3.36389e-11</td>\n",
              "      <td>1.6441e-11</td>\n",
              "      <td>0.00577908</td>\n",
              "      <td>6.54401e-14</td>\n",
              "      <td>1.72161e-10</td>\n",
              "      <td>0.99419</td>\n",
              "      <td>4.50521e-10</td>\n",
              "      <td>1.38536e-13</td>\n",
              "      <td>1.22641e-10</td>\n",
              "      <td>3.19738e-10</td>\n",
              "      <td>9.28037e-11</td>\n",
              "      <td>8.94271e-13</td>\n",
              "      <td>9.95501e-12</td>\n",
              "      <td>2.48972e-12</td>\n",
              "      <td>1.28889e-13</td>\n",
              "      <td>8.86122e-11</td>\n",
              "      <td>8.0829e-15</td>\n",
              "      <td>2.3439e-05</td>\n",
              "      <td>1.47759e-10</td>\n",
              "      <td>2.20034e-08</td>\n",
              "      <td>3.48385e-11</td>\n",
              "      <td>5.90135e-09</td>\n",
              "      <td>4.84373e-08</td>\n",
              "      <td>1.63438e-11</td>\n",
              "      <td>2.85271e-09</td>\n",
              "      <td>3.53463e-08</td>\n",
              "      <td>4.41559e-11</td>\n",
              "      <td>4.74102e-10</td>\n",
              "      <td>2.72596e-10</td>\n",
              "      <td>1.01818e-10</td>\n",
              "      <td>3.59118e-09</td>\n",
              "      <td>2.13001e-08</td>\n",
              "      <td>3.95524e-11</td>\n",
              "      <td>2.08273e-10</td>\n",
              "      <td>2.41117e-13</td>\n",
              "      <td>1.1376e-10</td>\n",
              "      <td>2.18469e-09</td>\n",
              "    </tr>\n",
              "    <tr>\n",
              "      <th>4</th>\n",
              "      <td>f56b3708592637432ac53d7f0684dfa8</td>\n",
              "      <td>2.62946e-12</td>\n",
              "      <td>7.78182e-12</td>\n",
              "      <td>3.49941e-09</td>\n",
              "      <td>1.34857e-13</td>\n",
              "      <td>2.50615e-09</td>\n",
              "      <td>2.65931e-10</td>\n",
              "      <td>1.32618e-12</td>\n",
              "      <td>3.18062e-09</td>\n",
              "      <td>1.40898e-12</td>\n",
              "      <td>1.06179e-08</td>\n",
              "      <td>6.83846e-11</td>\n",
              "      <td>4.71795e-11</td>\n",
              "      <td>1.37205e-09</td>\n",
              "      <td>1.27891e-09</td>\n",
              "      <td>9.43401e-10</td>\n",
              "      <td>2.42857e-11</td>\n",
              "      <td>7.58174e-11</td>\n",
              "      <td>5.79548e-11</td>\n",
              "      <td>3.55987e-08</td>\n",
              "      <td>3.23214e-08</td>\n",
              "      <td>2.17376e-12</td>\n",
              "      <td>1.93644e-12</td>\n",
              "      <td>2.55203e-10</td>\n",
              "      <td>4.28771e-11</td>\n",
              "      <td>1.32967e-11</td>\n",
              "      <td>4.87915e-11</td>\n",
              "      <td>4.60313e-11</td>\n",
              "      <td>9.85025e-09</td>\n",
              "      <td>1.58309e-08</td>\n",
              "      <td>1.15548e-11</td>\n",
              "      <td>5.85521e-11</td>\n",
              "      <td>2.11899e-11</td>\n",
              "      <td>3.1253e-10</td>\n",
              "      <td>6.05e-08</td>\n",
              "      <td>9.07232e-11</td>\n",
              "      <td>1.00255e-10</td>\n",
              "      <td>2.01645e-08</td>\n",
              "      <td>1.37471e-07</td>\n",
              "      <td>9.42206e-08</td>\n",
              "      <td>...</td>\n",
              "      <td>7.87872e-07</td>\n",
              "      <td>4.6845e-10</td>\n",
              "      <td>3.92848e-09</td>\n",
              "      <td>2.40563e-11</td>\n",
              "      <td>3.00461e-10</td>\n",
              "      <td>7.61855e-14</td>\n",
              "      <td>2.56834e-09</td>\n",
              "      <td>1.04888e-11</td>\n",
              "      <td>2.66895e-10</td>\n",
              "      <td>3.69479e-09</td>\n",
              "      <td>8.27452e-11</td>\n",
              "      <td>1.73327e-07</td>\n",
              "      <td>6.45309e-10</td>\n",
              "      <td>7.80262e-10</td>\n",
              "      <td>4.34957e-07</td>\n",
              "      <td>1.65334e-07</td>\n",
              "      <td>9.88271e-09</td>\n",
              "      <td>7.91065e-10</td>\n",
              "      <td>1.89967e-13</td>\n",
              "      <td>3.93797e-07</td>\n",
              "      <td>5.8318e-10</td>\n",
              "      <td>0.119886</td>\n",
              "      <td>2.20132e-09</td>\n",
              "      <td>4.00936e-10</td>\n",
              "      <td>1.30506e-10</td>\n",
              "      <td>1.68572e-10</td>\n",
              "      <td>1.04095e-08</td>\n",
              "      <td>1.7077e-12</td>\n",
              "      <td>1.01804e-09</td>\n",
              "      <td>3.43847e-09</td>\n",
              "      <td>3.23577e-12</td>\n",
              "      <td>3.09568e-10</td>\n",
              "      <td>2.30122e-13</td>\n",
              "      <td>1.15938e-10</td>\n",
              "      <td>2.54234e-10</td>\n",
              "      <td>4.28951e-10</td>\n",
              "      <td>5.23806e-11</td>\n",
              "      <td>2.75141e-12</td>\n",
              "      <td>3.25045e-10</td>\n",
              "      <td>4.32642e-11</td>\n",
              "    </tr>\n",
              "  </tbody>\n",
              "</table>\n",
              "<p>5 rows × 121 columns</p>\n",
              "</div>"
            ],
            "text/plain": [
              "                                 id  ... yorkshire_terrier\n",
              "0  f56080803871563e96541a57ad1a08c4  ...       7.99118e-06\n",
              "1  f574f558d78db4e616e91f5dd5347409  ...       1.45759e-08\n",
              "2  f540547111a9b6bda288b694a5536702  ...       0.000853729\n",
              "3  f56185baca63dfc073ca82bee5bf24e4  ...       2.18469e-09\n",
              "4  f56b3708592637432ac53d7f0684dfa8  ...       4.32642e-11\n",
              "\n",
              "[5 rows x 121 columns]"
            ]
          },
          "metadata": {
            "tags": []
          },
          "execution_count": 72
        }
      ]
    },
    {
      "cell_type": "code",
      "metadata": {
        "id": "gXL0y00kk-jv",
        "colab_type": "code",
        "colab": {}
      },
      "source": [
        "preds_df.to_csv(\"/content/drive/My Drive/Colab Notebooks/Dog Breed Identification/full_model_predictions_submission_1_mobilenetV2.csv\",\n",
        "                index=False)"
      ],
      "execution_count": 0,
      "outputs": []
    },
    {
      "cell_type": "code",
      "metadata": {
        "id": "Z7LBsNJKWkwa",
        "colab_type": "code",
        "colab": {
          "base_uri": "https://localhost:8080/",
          "height": 69
        },
        "outputId": "b822ea8d-5c69-435d-ed2a-e0e87f878b8b"
      },
      "source": [
        "custom_path = \"/content/drive/My Drive/Colab Notebooks/Dog Breed Identification/Data/new/\"\n",
        "custom_image_paths = [custom_path + fname for fname in os.listdir(custom_path)]\n",
        "custom_image_paths"
      ],
      "execution_count": 74,
      "outputs": [
        {
          "output_type": "execute_result",
          "data": {
            "text/plain": [
              "['/content/drive/My Drive/Colab Notebooks/Dog Breed Identification/Data/new/dog-photo-2.jpeg',\n",
              " '/content/drive/My Drive/Colab Notebooks/Dog Breed Identification/Data/new/dog-photo-1.jpeg',\n",
              " '/content/drive/My Drive/Colab Notebooks/Dog Breed Identification/Data/new/dog-photo-3.jpeg']"
            ]
          },
          "metadata": {
            "tags": []
          },
          "execution_count": 74
        }
      ]
    },
    {
      "cell_type": "code",
      "metadata": {
        "id": "Ht-pBZocXPNf",
        "colab_type": "code",
        "colab": {
          "base_uri": "https://localhost:8080/",
          "height": 35
        },
        "outputId": "31586056-c426-44c3-ddc6-bb4e3fd8d548"
      },
      "source": [
        "custom_data = create_data_batches(custom_image_paths, test_data=True)\n",
        "custom_data"
      ],
      "execution_count": 75,
      "outputs": [
        {
          "output_type": "execute_result",
          "data": {
            "text/plain": [
              "<BatchDataset shapes: (None, 224, 224, 3), types: tf.float32>"
            ]
          },
          "metadata": {
            "tags": []
          },
          "execution_count": 75
        }
      ]
    },
    {
      "cell_type": "code",
      "metadata": {
        "id": "OUPjA05CXQl2",
        "colab_type": "code",
        "colab": {
          "base_uri": "https://localhost:8080/",
          "height": 35
        },
        "outputId": "02829554-94ed-4410-f134-92bcbf5e3878"
      },
      "source": [
        "custom_preds = loaded_full_model.predict(custom_data)\n",
        "custom_preds.shape"
      ],
      "execution_count": 76,
      "outputs": [
        {
          "output_type": "execute_result",
          "data": {
            "text/plain": [
              "(3, 120)"
            ]
          },
          "metadata": {
            "tags": []
          },
          "execution_count": 76
        }
      ]
    },
    {
      "cell_type": "code",
      "metadata": {
        "id": "piOKGao9XYWp",
        "colab_type": "code",
        "colab": {
          "base_uri": "https://localhost:8080/",
          "height": 35
        },
        "outputId": "525cda88-8f16-491e-b0f5-984e1f6f7ed0"
      },
      "source": [
        "custom_pred_labels = [get_pred_label(custom_preds[i]) for i in range(len(custom_preds))]\n",
        "custom_pred_labels"
      ],
      "execution_count": 77,
      "outputs": [
        {
          "output_type": "execute_result",
          "data": {
            "text/plain": [
              "['lakeland_terrier', 'golden_retriever', 'labrador_retriever']"
            ]
          },
          "metadata": {
            "tags": []
          },
          "execution_count": 77
        }
      ]
    },
    {
      "cell_type": "code",
      "metadata": {
        "id": "U7I2DLoLXZ0f",
        "colab_type": "code",
        "colab": {}
      },
      "source": [
        "custom_images = []\n",
        "for image in custom_data.unbatch().as_numpy_iterator():\n",
        "  custom_images.append(image)"
      ],
      "execution_count": 0,
      "outputs": []
    },
    {
      "cell_type": "code",
      "metadata": {
        "id": "SZBgFNcxXcFC",
        "colab_type": "code",
        "colab": {
          "base_uri": "https://localhost:8080/",
          "height": 215
        },
        "outputId": "1eb91fb1-8f7d-4b2b-87bc-435b17d9b686"
      },
      "source": [
        "plt.figure(figsize=(10, 10))\n",
        "for i, image in enumerate(custom_images):\n",
        "  plt.subplot(1, 3, i+1)\n",
        "  plt.xticks([])\n",
        "  plt.yticks([])\n",
        "  plt.title(custom_pred_labels[i])\n",
        "  plt.imshow(image)"
      ],
      "execution_count": 79,
      "outputs": [
        {
          "output_type": "display_data",
          "data": {
            "image/png": "[encoded data removed]",
            "text/plain": [
              "<Figure size 720x720 with 3 Axes>"
            ]
          },
          "metadata": {
            "tags": []
          }
        }
      ]
    },
    {
      "cell_type": "code",
      "metadata": {
        "id": "DwzYA3Z5XdZl",
        "colab_type": "code",
        "colab": {}
      },
      "source": [
        ""
      ],
      "execution_count": 0,
      "outputs": []
    }
  ]
}